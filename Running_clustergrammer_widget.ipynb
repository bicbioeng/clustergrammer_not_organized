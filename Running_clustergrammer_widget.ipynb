{
 "cells": [
  {
   "cell_type": "markdown",
   "metadata": {
    "scrolled": true
   },
   "source": [
    "# Clustergrammer Widget\n",
    "\n",
    "## Gene Expression Example\n",
    "This example shows how to visualize a matrix of gene expression data saved as a tab-separated-file (e.g. [rc_two_cats.txt](https://github.com/MaayanLab/clustergrammer-widget/blob/master/rc_two_cats.txt)) using the Clustergrammer interactive widget (see the Clustergrammer Jupyter Widget [Documentation](http://clustergrammer.readthedocs.io/clustergrammer_gl.html) for more information)."
   ]
  },
  {
   "cell_type": "code",
   "execution_count": 1,
   "metadata": {},
   "outputs": [],
   "source": [
    "# import widget classes and instantiate Network instance\n",
    "from clustergrammer_gl import *\n",
    "net = Network(clustergrammer_gl)"
   ]
  },
  {
   "cell_type": "code",
   "execution_count": 2,
   "metadata": {},
   "outputs": [
    {
     "data": {
      "application/vnd.jupyter.widget-view+json": {
       "model_id": "ccd7ff6d62df443c9c3e896e04d2c1a7"
      }
     },
     "metadata": {},
     "output_type": "display_data"
    }
   ],
   "source": [
    "# load matrix file\n",
    "net.load_file('rc_two_cats.txt')\n",
    "\n",
    "# cluster using default parameters\n",
    "net.cluster(enrichrgram=True)\n",
    "\n",
    "# make interactive widget\n",
    "net.widget()"
   ]
  },
  {
   "cell_type": "markdown",
   "metadata": {},
   "source": [
    "## Interactive Features\n",
    "* zoom/pan\n",
    "* reorder rows and columns using buttons or by double-clicking row/column/category names\n",
    "* interactively perform dimensionality reduction (and re-clustering) using row-filter sliders (e.g. filter rows based on variance)\n",
    "* identify clusters of varying sizes using the interactive row and column dendrograms \n",
    "* export cluster names or crop matrix to clusters using the dendrogram and dendrogram crop buttons\n",
    "* search for rows using the search box\n",
    "* crop the matrix using the brush cropping tool in the sidebar\n",
    "* take a PNG/SVG snapshot or download a TSV file snapshot of the matrix using the sidebar icons\n",
    "\n",
    "## Biollogy-specific Features\n",
    "Clustergrammer widget has biology-specific features that are activated when rows are given as official gene symbols:\n",
    "* mouseover gene (row) name to show full name and description (information provided by [Harmonizome](http://amp.pharm.mssm.edu/Harmonizome/))\n",
    "* find biological information specific to your gene list with enrichment analysis from [Enrichr](http://amp.pharm.mssm.edu/Enrichr/)\n",
    "\n",
    "# General Purpose Pandas DataFrame Viewer\n",
    "Clustergrammer can also be used as a general purpose Pandas dataframe viewer. This example generates a dataframe with random data and visualizes it with Clustergrammer widget:"
   ]
  },
  {
   "cell_type": "code",
   "execution_count": 3,
   "metadata": {},
   "outputs": [],
   "source": [
    "# import numpy as np\n",
    "# import pandas as pd\n",
    "\n",
    "# # generate random matrix\n",
    "# num_rows = 500\n",
    "# num_cols = 10\n",
    "# np.random.seed(seed=100)\n",
    "# mat = np.random.rand(num_rows, num_cols)\n",
    "\n",
    "# # make row and col labels\n",
    "# rows = range(num_rows)\n",
    "# cols = range(num_cols)\n",
    "# rows = [str(i) for i in rows]\n",
    "# cols = [str(i) for i in cols]\n",
    "\n",
    "# # make dataframe \n",
    "# df = pd.DataFrame(data=mat, columns=cols, index=rows)"
   ]
  },
  {
   "cell_type": "markdown",
   "metadata": {},
   "source": [
    "Initialize the network object, load the dataframe, hierarchically cluster the rows and columns using default parameters, and finally visualize using clustergrammer_gl."
   ]
  },
  {
   "cell_type": "code",
   "execution_count": 4,
   "metadata": {},
   "outputs": [],
   "source": [
    "# net.load_df(df)\n",
    "# net.cluster(enrichrgram=False)\n",
    "# net.widget()"
   ]
  },
  {
   "cell_type": "markdown",
   "metadata": {},
   "source": [
    "# Installation\n",
    "Clustergrammer widget is built using the [ipywidgets](https://github.com/ipython/ipywidgets) framework (using the [cookie cutter](https://github.com/jupyter/widget-cookiecutter) template) and can be installed (with pip) and enabled using the following commands:\n",
    "\n",
    "    pip install clustergrammer_gl\n",
    "    jupyter nbextension enable --py --sys-prefix widgetsnbextension\n",
    "    jupyter nbextension enable --py --sys-prefix clustergrammer_gl\n",
    "    \n",
    "See the [documentation](http://clustergrammer.readthedocs.io/clustergrammer_gl.html) and clustergrammer_gl [GitHub](https://github.com/MaayanLab/clustergrammer-widget) for more information. \n",
    "\n",
    "# nbviewer\n",
    "Interactive widgets can also be rendered using Jupyter's [nbviewer](http://nbviewer.jupyter.org/) by using the 'Save Notebook with Widgets' action from the Widgets menu in the notebook (see ipywidgets [documents](http://ipywidgets.readthedocs.io/en/latest/embedding.html#rendering-interactive-widgets-on-nbviewer)). This notebook is being rendered by nbviewer using the Github [repo](https://github.com/MaayanLab/clustergrammer-widget).\n",
    "\n",
    "# Clustergrammer Web-app and Libraries\n",
    "The Clustergrammer project can also be used through:\n",
    "* a web application: http://amp.pharm.mssm.edu/clustergrammer/ \n",
    "* and as JavaScript (front-end) and Python (back-end) libraries by developers: [clustergrammer.js](https://github.com/MaayanLab/clustergrammer) and [clustergrammer.py](https://github.com/MaayanLab/clustergrammer-py)"
   ]
  }
 ],
 "metadata": {
  "anaconda-cloud": {},
  "kernelspec": {
   "display_name": "Python 2",
   "language": "python",
   "name": "python2"
  },
  "language_info": {
   "codemirror_mode": {
    "name": "ipython",
    "version": 2
   },
   "file_extension": ".py",
   "mimetype": "text/x-python",
   "name": "python",
   "nbconvert_exporter": "python",
   "pygments_lexer": "ipython2",
   "version": "2.7.12"
  },
  "widgets": {
   "application/vnd.jupyter.widget-state+json": {
    "state": {},
    "version_major": 1,
    "version_minor": 0
   }
  }
 },
 "nbformat": 4,
 "nbformat_minor": 1
}
